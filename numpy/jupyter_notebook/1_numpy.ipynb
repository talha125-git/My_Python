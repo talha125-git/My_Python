{
 "cells": [
  {
   "cell_type": "code",
   "execution_count": 1,
   "id": "3ecfb755",
   "metadata": {},
   "outputs": [],
   "source": [
    "import numpy as np\n",
    "import sys\n",
    "import time"
   ]
  },
  {
   "cell_type": "code",
   "execution_count": 3,
   "id": "1591ff0c",
   "metadata": {},
   "outputs": [
    {
     "name": "stdout",
     "output_type": "stream",
     "text": [
      "______________________________________________________________\n",
      "______________________________________________________________\n",
      "______________________________________________________________\n",
      "______________________________________________________________\n",
      "______________________________________________________________\n",
      "______________________________________________________________\n",
      "______________________________________________________________\n",
      "\n",
      "____________Day 1 of numpy date 12 aug , 2025_________________\n",
      "\n",
      "______________________________________________________________\n",
      "______________________________________________________________\n",
      "______________________________________________________________\n",
      "______________________________________________________________\n",
      "______________________________________________________________\n",
      "______________________________________________________________\n",
      "______________________________________________________________\n"
     ]
    }
   ],
   "source": [
    "print(\"______________________________________________________________\")\n",
    "print(\"______________________________________________________________\")\n",
    "print(\"______________________________________________________________\")\n",
    "print(\"______________________________________________________________\")\n",
    "print(\"______________________________________________________________\")\n",
    "print(\"______________________________________________________________\")\n",
    "print(\"______________________________________________________________\\n\")\n",
    "print(\"____________Day 1 of numpy date 12 aug , 2025_________________\\n\")\n",
    "print(\"______________________________________________________________\")\n",
    "print(\"______________________________________________________________\")\n",
    "print(\"______________________________________________________________\")\n",
    "print(\"______________________________________________________________\")\n",
    "print(\"______________________________________________________________\")\n",
    "print(\"______________________________________________________________\")\n",
    "print(\"______________________________________________________________\")"
   ]
  },
  {
   "cell_type": "code",
   "execution_count": 16,
   "id": "2f5b6fc5",
   "metadata": {},
   "outputs": [
    {
     "name": "stdout",
     "output_type": "stream",
     "text": [
      "___ 1D array ___\n",
      "[1 2 3 4 5]\n",
      "(5,)\n",
      "<class 'numpy.ndarray'>\n"
     ]
    }
   ],
   "source": [
    "print(\"___ 1D array ___\")\n",
    "arr1=np.array([1,2,3,4,5])\n",
    "print(arr1)\n",
    "print(arr1.shape)\n",
    "print(type(arr1))"
   ]
  },
  {
   "cell_type": "code",
   "execution_count": 17,
   "id": "ac647247",
   "metadata": {},
   "outputs": [
    {
     "name": "stdout",
     "output_type": "stream",
     "text": [
      "___ 2D array ___\n",
      "[[1 2 3]\n",
      " [4 5 6]]\n",
      "(2, 3)\n"
     ]
    }
   ],
   "source": [
    "print(\"___ 2D array ___\")\n",
    "# 2D array\n",
    "arr2= np.array([[1,2,3],[4,5,6]])\n",
    "print(arr2)\n",
    "print(arr2.shape)\n"
   ]
  },
  {
   "cell_type": "code",
   "execution_count": 18,
   "id": "449749bf",
   "metadata": {},
   "outputs": [
    {
     "name": "stdout",
     "output_type": "stream",
     "text": [
      "___ zeros matrox ___\n",
      "[[0. 0. 0. 0.]\n",
      " [0. 0. 0. 0.]\n",
      " [0. 0. 0. 0.]]\n",
      "(3, 4)\n"
     ]
    }
   ],
   "source": [
    "print(\"___ zeros matrox ___\")\n",
    "# zeros \n",
    "arr3=np.zeros((3,4))\n",
    "print(arr3)\n",
    "print(arr3.shape)"
   ]
  },
  {
   "cell_type": "code",
   "execution_count": 19,
   "id": "e6101c10",
   "metadata": {},
   "outputs": [
    {
     "name": "stdout",
     "output_type": "stream",
     "text": [
      "___ ones matrix ___\n",
      "[[1. 1. 1.]\n",
      " [1. 1. 1.]]\n",
      "(2, 3)\n"
     ]
    }
   ],
   "source": [
    "print(\"___ ones matrix ___\")\n",
    "# ones array\n",
    "arr4=np.ones((2,3))\n",
    "print(arr4)\n",
    "print(arr4.shape)\n"
   ]
  },
  {
   "cell_type": "code",
   "execution_count": 20,
   "id": "097e7b69",
   "metadata": {},
   "outputs": [
    {
     "name": "stdout",
     "output_type": "stream",
     "text": [
      "___ Identity matrix ___\n",
      "[[1. 0. 0. 0.]\n",
      " [0. 1. 0. 0.]\n",
      " [0. 0. 1. 0.]\n",
      " [0. 0. 0. 1.]]\n",
      "(4, 4)\n"
     ]
    }
   ],
   "source": [
    "print(\"___ Identity matrix ___\")\n",
    "# identity  (show 1 diagnal)\n",
    "arr5=np.identity(4)\n",
    "print(arr5)\n",
    "print(arr5.shape)"
   ]
  },
  {
   "cell_type": "code",
   "execution_count": 21,
   "id": "9184f56e",
   "metadata": {},
   "outputs": [
    {
     "name": "stdout",
     "output_type": "stream",
     "text": [
      "___ Arange function ___\n",
      "[0 1 2 3 4 5 6 7 8 9]\n",
      "[10 11 12 13 14 15 16 17 18 19]\n",
      "[1 3 5 7 9]\n",
      "(5,)\n"
     ]
    }
   ],
   "source": [
    "print(\"___ Arange function ___\")\n",
    "# arrange \n",
    "arr7a=np.arange(10)\n",
    "arr7b=np.arange(10,20)\n",
    "arr7c=np.arange(1,10,2)\n",
    "print(arr7a)\n",
    "print(arr7b)\n",
    "print(arr7c)\n",
    "print(arr7c.shape)"
   ]
  },
  {
   "cell_type": "code",
   "execution_count": 22,
   "id": "93b8f13c",
   "metadata": {},
   "outputs": [
    {
     "name": "stdout",
     "output_type": "stream",
     "text": [
      "___ linespace function ___\n",
      "[10.         11.11111111 12.22222222 13.33333333 14.44444444 15.55555556\n",
      " 16.66666667 17.77777778 18.88888889 20.        ]\n",
      "(10,)\n",
      "Datatype  => float64\n",
      "[10 11 12 13 14 15 16 17 18 20]\n"
     ]
    }
   ],
   "source": [
    "print(\"___ linespace function ___\")\n",
    "# linspace\n",
    "arr8=np.linspace(10,20,10)\n",
    "print(arr8)\n",
    "print(arr8.shape)\n",
    "print(\"Datatype  =>\",arr8.dtype)  # float64\n",
    "convert_to_other_datatype = arr8.astype('int')\n",
    "print(convert_to_other_datatype)"
   ]
  },
  {
   "cell_type": "code",
   "execution_count": 23,
   "id": "6d6a0807",
   "metadata": {},
   "outputs": [
    {
     "name": "stdout",
     "output_type": "stream",
     "text": [
      "___ 2D array with functions(shape,ndim,Size,itemsize,dtype,astype) ___\n",
      "[[[1 2]\n",
      "  [3 4]]\n",
      "\n",
      " [[4 6]\n",
      "  [7 8]]]\n",
      "shape     => (2, 2, 2)\n",
      "Dimension => 3\n",
      "Size      => 8\n",
      "Itemsize  => 8\n",
      "Datatype  => int64\n",
      "[[[1. 2.]\n",
      "  [3. 4.]]\n",
      "\n",
      " [[4. 6.]\n",
      "  [7. 8.]]]\n"
     ]
    }
   ],
   "source": [
    "print(\"___ 2D array with functions(shape,ndim,Size,itemsize,dtype,astype) ___\")\n",
    "# 2D array\n",
    "arr9=np.array([[[1,2],[3,4]]     ,     [[4,6],[7,8]]])\n",
    "print(arr9)\n",
    "print(\"shape     =>\",arr9.shape)\n",
    "print(\"Dimension =>\",arr9.ndim)   # show matrix  1D 2D OR 3D\n",
    "print(\"Size      =>\",arr9.size)\n",
    "print(\"Itemsize  =>\",arr9.itemsize)\n",
    "print(\"Datatype  =>\",arr9.dtype)\n",
    "#astype  (to convert to another datatype)\n",
    "convert_to_other_datatype = arr9.astype('float')\n",
    "print(convert_to_other_datatype)"
   ]
  },
  {
   "cell_type": "code",
   "execution_count": 24,
   "id": "fa21c592",
   "metadata": {},
   "outputs": [
    {
     "name": "stdout",
     "output_type": "stream",
     "text": [
      "___ List and array  ___\n",
      "range(0, 100)\n",
      "[ 0  1  2  3  4  5  6  7  8  9 10 11 12 13 14 15 16 17 18 19 20 21 22 23\n",
      " 24 25 26 27 28 29 30 31 32 33 34 35 36 37 38 39 40 41 42 43 44 45 46 47\n",
      " 48 49 50 51 52 53 54 55 56 57 58 59 60 61 62 63 64 65 66 67 68 69 70 71\n",
      " 72 73 74 75 76 77 78 79 80 81 82 83 84 85 86 87 88 89 90 91 92 93 94 95\n",
      " 96 97 98 99]\n",
      "2800\n",
      "800\n"
     ]
    }
   ],
   "source": [
    "print(\"___ List and array  ___\")\n",
    "# List and array\n",
    "lista= range(100)\n",
    "arr10=np.arange(100)\n",
    "print(lista)\n",
    "print(arr10)\n",
    "import sys\n",
    "print(sys.getsizeof(7)*len(lista))\n",
    "print(arr10.itemsize*arr10.size)"
   ]
  },
  {
   "cell_type": "code",
   "execution_count": 25,
   "id": "8c243ce1",
   "metadata": {},
   "outputs": [
    {
     "name": "stdout",
     "output_type": "stream",
     "text": [
      "___ Time count number in how many sec or milli sec ___\n",
      "0.08747148513793945\n",
      "0.08747148513793945\n"
     ]
    }
   ],
   "source": [
    "print(\"___ Time count number in how many sec or milli sec ___\")\n",
    "# time\n",
    "import time\n",
    "x=range(100000)\n",
    "y=range(100000,200000)\n",
    " \n",
    "start_time = time.time()\n",
    "c=[(x,y) for x,y in zip(x,y)]\n",
    "print(time.time()-start_time)  # count  100000 in how many sec or milli sec\n",
    "\n",
    "a=np.arange(100000)\n",
    "b=np.arange(100000,200000)\n",
    "c=a+b\n",
    "print(time.time()-start_time)"
   ]
  }
 ],
 "metadata": {
  "kernelspec": {
   "display_name": "Python 3",
   "language": "python",
   "name": "python3"
  },
  "language_info": {
   "codemirror_mode": {
    "name": "ipython",
    "version": 3
   },
   "file_extension": ".py",
   "mimetype": "text/x-python",
   "name": "python",
   "nbconvert_exporter": "python",
   "pygments_lexer": "ipython3",
   "version": "3.10.11"
  }
 },
 "nbformat": 4,
 "nbformat_minor": 5
}
