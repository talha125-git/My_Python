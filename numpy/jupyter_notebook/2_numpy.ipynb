{
 "cells": [
  {
   "cell_type": "code",
   "execution_count": 2,
   "id": "410e847c",
   "metadata": {},
   "outputs": [],
   "source": [
    "import numpy as np\n",
    "import sys\n",
    "import time\n"
   ]
  },
  {
   "cell_type": "code",
   "execution_count": 110,
   "id": "6efdb68c",
   "metadata": {},
   "outputs": [
    {
     "name": "stdout",
     "output_type": "stream",
     "text": [
      "______________________________________________________________\n",
      "______________________________________________________________\n",
      "______________________________________________________________\n",
      "______________________________________________________________\n",
      "______________________________________________________________\n",
      "______________________________________________________________\n",
      "______________________________________________________________\n",
      "\n",
      "____________Day 2 of numpy date 13 aug , 2025_________________\n",
      "\n",
      "______________________________________________________________\n",
      "______________________________________________________________\n",
      "______________________________________________________________\n",
      "______________________________________________________________\n",
      "______________________________________________________________\n",
      "______________________________________________________________\n",
      "______________________________________________________________\n"
     ]
    }
   ],
   "source": [
    "print(\"______________________________________________________________\")\n",
    "print(\"______________________________________________________________\")\n",
    "print(\"______________________________________________________________\")\n",
    "print(\"______________________________________________________________\")\n",
    "print(\"______________________________________________________________\")\n",
    "print(\"______________________________________________________________\")\n",
    "print(\"______________________________________________________________\\n\")\n",
    "print(\"____________Day 2 of numpy date 13 aug , 2025_________________\\n\")\n",
    "print(\"______________________________________________________________\")\n",
    "print(\"______________________________________________________________\")\n",
    "print(\"______________________________________________________________\")\n",
    "print(\"______________________________________________________________\")\n",
    "print(\"______________________________________________________________\")\n",
    "print(\"______________________________________________________________\")\n",
    "print(\"______________________________________________________________\")"
   ]
  },
  {
   "cell_type": "code",
   "execution_count": 3,
   "id": "a7dca15e",
   "metadata": {},
   "outputs": [
    {
     "name": "stdout",
     "output_type": "stream",
     "text": [
      "[[ 0  1  2  3]\n",
      " [ 4  5  6  7]\n",
      " [ 8  9 10 11]\n",
      " [12 13 14 15]\n",
      " [16 17 18 19]\n",
      " [20 21 22 23]]\n",
      "---------\n",
      "[ 8  9 10 11]\n",
      "---------\n",
      "[ 2  6 10 14 18 22]\n",
      "---------\n",
      "[[ 1  2]\n",
      " [ 5  6]\n",
      " [ 9 10]\n",
      " [13 14]\n",
      " [17 18]\n",
      " [21 22]]\n",
      "---------\n",
      "[[ 9 10]\n",
      " [13 14]]\n",
      "[[18 19]\n",
      " [22 23]]\n",
      "0\n",
      "1\n",
      "2\n",
      "3\n",
      "4\n",
      "5\n",
      "6\n",
      "7\n",
      "8\n",
      "9\n",
      "10\n",
      "11\n",
      "12\n",
      "13\n",
      "14\n",
      "15\n",
      "16\n",
      "17\n",
      "18\n",
      "19\n",
      "20\n",
      "21\n",
      "22\n",
      "23\n"
     ]
    }
   ],
   "source": [
    "# reshape\n",
    "arr11=np.arange(24).reshape(6,4)\n",
    "print(arr11)\n",
    "print(\"---------\")\n",
    "print(arr11[2])     #print 3nd row \n",
    "print(\"---------\")\n",
    "print(arr11[:,2])   #print 3rd col\n",
    "print(\"---------\")\n",
    "print(arr11[:,1:3])   #print 2nd & 3rd col\n",
    "print(\"---------\")\n",
    "print(arr11[2:4,1:3])\n",
    "# Rows 4 and 5 (index 4:6) → [[16 17 18 19], [20 21 22 23]]\n",
    "# Columns 2 and 3 (index 2:4) → [[18 19], [22 23]]\n",
    "print(arr11[4:6, 2:4])\n",
    "\n",
    "#use function\n",
    "for i in np.nditer(arr11):\n",
    "    print(i)    #print in one line separatly"
   ]
  },
  {
   "cell_type": "code",
   "execution_count": 4,
   "id": "9abe04f1",
   "metadata": {},
   "outputs": [
    {
     "name": "stdout",
     "output_type": "stream",
     "text": [
      "Subtract of arrays [-3 -3 -3 -3 -3 -3]\n",
      "Multiply of arrays [ 4 10 18 28 40 54]\n",
      "--------\n",
      "Array A multiply by two [ 2  4  6  8 10 12]\n",
      "[ True  True  True  True  True  True]\n"
     ]
    }
   ],
   "source": [
    "#  Numpy opeartions\n",
    "arrA = np.array([1,2,3,4,5,6])\n",
    "arrB = np.array([4,5,6,7,8,9])\n",
    " \n",
    "print(\"Subtract of arrays\",arrA-arrB)\n",
    "print(\"Multiply of arrays\",arrA*arrB)\n",
    "print(\"--------\")\n",
    "print(\"Array A multiply by two\",arrA*2)\n",
    "print(arrB>3)"
   ]
  },
  {
   "cell_type": "code",
   "execution_count": 5,
   "id": "c6810539",
   "metadata": {},
   "outputs": [
    {
     "name": "stdout",
     "output_type": "stream",
     "text": [
      "---- DOT PRODUCT ----\n",
      "Array 12 => [[0 1 2]\n",
      " [3 4 5]]\n",
      "_____\n",
      "Array 13 => [[ 6  7]\n",
      " [ 8  9]\n",
      " [10 11]]\n",
      "_____\n",
      "[[ 28  31]\n",
      " [100 112]]\n"
     ]
    }
   ],
   "source": [
    "print(\"---- DOT PRODUCT ----\")\n",
    "arr12 = np.arange(6).reshape(2,3)\n",
    "arr13 = np.arange(6,12).reshape(3,2)\n",
    "print(\"Array 12 =>\",arr12)\n",
    "print(\"_____\")\n",
    "print(\"Array 13 =>\",arr13)\n",
    "print(\"_____\")\n",
    "o = arr12.dot(arr13)\n",
    "print(o)\n"
   ]
  },
  {
   "cell_type": "code",
   "execution_count": 6,
   "id": "3e3fa3dc",
   "metadata": {},
   "outputs": [
    {
     "name": "stdout",
     "output_type": "stream",
     "text": [
      "___max , min , axis ____\n",
      "[[ 2  3  4]\n",
      " [ 5  6  7]\n",
      " [ 8  9 11]]\n",
      "11\n",
      "2\n",
      "[2 3 4]\n",
      "[2 5 8]\n",
      "55\n",
      "[15 18 22]\n",
      "___________\n",
      "2.7666443551086073\n",
      "[[ 0.90929743  0.14112001 -0.7568025 ]\n",
      " [-0.95892427 -0.2794155   0.6569866 ]\n",
      " [ 0.98935825  0.41211849 -0.99999021]]\n",
      "6.0\n",
      "[[7.38905610e+00 2.00855369e+01 5.45981500e+01]\n",
      " [1.48413159e+02 4.03428793e+02 1.09663316e+03]\n",
      " [2.98095799e+03 8.10308393e+03 5.98741417e+04]]\n"
     ]
    }
   ],
   "source": [
    "print(\"___max , min , axis ____\")\n",
    "arr14 = np.array([2,3,4,5,6,7,8,9,11]).reshape(3,3)\n",
    "print(arr14)\n",
    "print(arr14.max())          #show max num in array\n",
    "print(arr14.min())          #show man num in array\n",
    "print(arr14.min(axis=0))    #show 1st row of array\n",
    "print(arr14.min(axis=1))    #show 1st col of array\n",
    "print(arr14.sum())          # sum all ele in array\n",
    "print(arr14.sum(axis=0))    # show sum of 3 col\n",
    "print(\"___________\")\n",
    "print(arr14.std())\n",
    "print(np.sin(arr14))\n",
    "print(np.median(arr14))\n",
    "print(np.exp(arr14))"
   ]
  },
  {
   "cell_type": "code",
   "execution_count": 108,
   "id": "e6757895",
   "metadata": {},
   "outputs": [
    {
     "name": "stdout",
     "output_type": "stream",
     "text": [
      "______________________________________________________________\n",
      "______________________________________________________________\n",
      "______________________________________________________________\n",
      "______________________________________________________________\n",
      "______________________________________________________________\n",
      "______________________________________________________________\n",
      "______________________________________________________________\n",
      "\n",
      "____________Day 3 of numpy date 15 aug , 2025_________________\n",
      "\n",
      "______________________________________________________________\n",
      "______________________________________________________________\n",
      "______________________________________________________________\n",
      "______________________________________________________________\n",
      "______________________________________________________________\n",
      "______________________________________________________________\n",
      "______________________________________________________________\n"
     ]
    }
   ],
   "source": [
    "print(\"______________________________________________________________\")\n",
    "print(\"______________________________________________________________\")\n",
    "print(\"______________________________________________________________\")\n",
    "print(\"______________________________________________________________\")\n",
    "print(\"______________________________________________________________\")\n",
    "print(\"______________________________________________________________\")\n",
    "print(\"______________________________________________________________\\n\")\n",
    "print(\"____________Day 3 of numpy date 15 aug , 2025_________________\\n\")\n",
    "print(\"______________________________________________________________\")\n",
    "print(\"______________________________________________________________\")\n",
    "print(\"______________________________________________________________\")\n",
    "print(\"______________________________________________________________\")\n",
    "print(\"______________________________________________________________\")\n",
    "print(\"______________________________________________________________\")\n",
    "print(\"______________________________________________________________\")"
   ]
  },
  {
   "cell_type": "code",
   "execution_count": 27,
   "id": "3880f3f1",
   "metadata": {},
   "outputs": [
    {
     "name": "stdout",
     "output_type": "stream",
     "text": [
      "arr1\n",
      "[[ 5  6]\n",
      " [ 7  8]\n",
      " [ 9 10]] \n",
      "\n",
      "Dimension of arr1 \n",
      " 2\n"
     ]
    }
   ],
   "source": [
    "#reshaping numpy array\n",
    "import numpy as np\n",
    "arr1 = np.array([5,6,7,8,9,10]).reshape(3,2)\n",
    "print(\"arr1\")\n",
    "print(arr1,\"\\n\")\n",
    "\n",
    "print(\"Dimension of arr1 \\n\",arr1.ndim ,) \n"
   ]
  },
  {
   "cell_type": "code",
   "execution_count": 24,
   "id": "ed3c86bc",
   "metadata": {},
   "outputs": [
    {
     "name": "stdout",
     "output_type": "stream",
     "text": [
      "____convert to 1D by use ravel ftn____\n",
      "[ 5  6  7  8  9 10]\n"
     ]
    }
   ],
   "source": [
    "print(\"____convert to 1D by use ravel ftn____\")  \n",
    "print(arr1.ravel(),)"
   ]
  },
  {
   "cell_type": "code",
   "execution_count": 23,
   "id": "b9a14173",
   "metadata": {},
   "outputs": [
    {
     "name": "stdout",
     "output_type": "stream",
     "text": [
      "Transpose of arr1\n",
      "[[ 5  7  9]\n",
      " [ 6  8 10]]\n"
     ]
    }
   ],
   "source": [
    "print(\"Transpose of arr1\")\n",
    "print(arr1.transpose())"
   ]
  },
  {
   "cell_type": "code",
   "execution_count": 41,
   "id": "ec81c5eb",
   "metadata": {},
   "outputs": [
    {
     "name": "stdout",
     "output_type": "stream",
     "text": [
      "stacking (combining) of array\n",
      "arr2 =>  [ 1  2  3  4  5  6  7  8  9 10]\n",
      "arr3 =>  [11 12 13 14 15 16 17 18 19 20] \n",
      "\n",
      "hstack -> horizontally\n",
      "[ 1  2  3  4  5  6  7  8  9 10 11 12 13 14 15 16 17 18 19 20] \n",
      "\n",
      "vstack -> vertically\n",
      "[[ 1  2  3  4  5  6  7  8  9 10]\n",
      " [11 12 13 14 15 16 17 18 19 20]] \n",
      "\n"
     ]
    }
   ],
   "source": [
    "print(\"stacking (combining) of array\")\n",
    "arr2 = np.arange(1,11)\n",
    "arr3 = np.arange(11,21)\n",
    "print(\"arr2 => \",arr2)\n",
    "print(\"arr3 => \",arr3,\"\\n\")\n",
    "\n",
    "print(\"hstack -> horizontally\")\n",
    "print(np.hstack((arr2,arr3)),\"\\n\")\n",
    "\n",
    "print(\"vstack -> vertically\")\n",
    "print(np.vstack((arr2,arr3)),\"\\n\")\n"
   ]
  },
  {
   "cell_type": "code",
   "execution_count": 71,
   "id": "37655592",
   "metadata": {},
   "outputs": [
    {
     "name": "stdout",
     "output_type": "stream",
     "text": [
      "____Spliting of array_____\n",
      "arr3 => \n",
      " [11 12 13 14 15 16 17 18 19 20] \n",
      "\n",
      "Spliting\n",
      "hsplit -> horizontally split\n",
      "[array([11, 12, 13, 14, 15]), array([16, 17, 18, 19, 20])] \n",
      "\n",
      "vsplit -> vertically split\n",
      "[array([[11, 12, 13, 14, 15],\n",
      "       [16, 17, 18, 19, 20]])]\n"
     ]
    }
   ],
   "source": [
    "print(\"____Spliting of array_____\")\n",
    "\n",
    "print(\"arr3 => \\n\",arr3,\"\\n\")\n",
    "print(\"Spliting\")\n",
    "print(\"hsplit -> horizontally split\")\n",
    "print(np.hsplit(arr3, 2),\"\\n\") \n",
    "print(\"vsplit -> vertically split\")\n",
    "arr3_reshaped = arr3.reshape(2, 5) \n",
    "print(np.vsplit(arr3_reshaped, 1))"
   ]
  },
  {
   "cell_type": "code",
   "execution_count": 77,
   "id": "693f916c",
   "metadata": {},
   "outputs": [
    {
     "name": "stdout",
     "output_type": "stream",
     "text": [
      "_____fancy indexing_____\n",
      "[[ 0  1  2  3]\n",
      " [ 4  5  6  7]\n",
      " [ 8  9 10 11]\n",
      " [12 13 14 15]\n",
      " [16 17 18 19]\n",
      " [20 21 22 23]] \n",
      "\n",
      "print selected row \n",
      "[[ 0  1  2  3]\n",
      " [ 8  9 10 11]\n",
      " [16 17 18 19]]\n"
     ]
    }
   ],
   "source": [
    "print(\"_____fancy indexing_____\")\n",
    "talha = np.arange(24).reshape(6,4)\n",
    "print(talha,\"\\n\")\n",
    "print(\"print selected row \")\n",
    "print(talha[[0,2,4]])"
   ]
  },
  {
   "cell_type": "code",
   "execution_count": 8,
   "id": "2ac50aed",
   "metadata": {},
   "outputs": [
    {
     "name": "stdout",
     "output_type": "stream",
     "text": [
      "_____indexing with boolean array_____\n",
      "[[82 71 25 81 99]\n",
      " [73 65 94 21 73]\n",
      " [66 49  7  2 98]\n",
      " [ 9 56 38 92 12]] \n",
      "\n",
      "Greater than 50\n",
      "[[ True  True False  True  True]\n",
      " [ True  True  True False  True]\n",
      " [ True False False False  True]\n",
      " [False  True False  True False]] \n",
      "\n",
      "Greater than 50 (show in number)\n",
      "[82 71 81 99 73 65 94 73 66 98 56 92] \n",
      "\n",
      "Greater than 50 and even number\n",
      "[82 94 66 98 56 92] \n",
      "\n",
      "Greater than 50 and odd number\n",
      "[71 81 99 73 65 73] \n",
      "\n",
      "Make those numbers = 0 which are greater than 50 and even\n",
      "[[ 0 71 25 81 99]\n",
      " [73 65  0 21 73]\n",
      " [ 0 49  7  2  0]\n",
      " [ 9  0 38  0 12]]\n"
     ]
    }
   ],
   "source": [
    "import numpy as np\n",
    "\n",
    "print(\"_____indexing with boolean array_____\")\n",
    "Array = np.random.randint(low=1, high=100, size=20).reshape(4, 5)\n",
    "print(Array, \"\\n\")\n",
    "\n",
    "print(\"Greater than 50\")\n",
    "print(Array > 50, \"\\n\")\n",
    "\n",
    "print(\"Greater than 50 (show in number)\")\n",
    "print(Array[Array > 50], \"\\n\")\n",
    "\n",
    "print(\"Greater than 50 and even number\")\n",
    "print(Array[(Array > 50) & (Array % 2 == 0)], \"\\n\")\n",
    "\n",
    "print(\"Greater than 50 and odd number\")\n",
    "print(Array[(Array > 50) & (Array % 2 != 0)], \"\\n\")\n",
    "\n",
    "print(\"Make those numbers = 0 which are greater than 50 and even\")\n",
    "Array[(Array > 50) & (Array % 2 == 0)] = 0\n",
    "print(Array)\n"
   ]
  },
  {
   "cell_type": "code",
   "execution_count": 10,
   "id": "f3ddbd17",
   "metadata": {},
   "outputs": [
    {
     "name": "stdout",
     "output_type": "stream",
     "text": [
      "______________________________________________________________\n",
      "______________________________________________________________\n",
      "______________________________________________________________\n",
      "______________________________________________________________\n",
      "______________________________________________________________\n",
      "______________________________________________________________\n",
      "______________________________________________________________\n",
      "\n",
      "____________Day 4 of numpy date 18 aug , 2025_________________\n",
      "\n",
      "______________________________________________________________\n",
      "______________________________________________________________\n",
      "______________________________________________________________\n",
      "______________________________________________________________\n",
      "______________________________________________________________\n",
      "______________________________________________________________\n",
      "______________________________________________________________\n"
     ]
    }
   ],
   "source": [
    "print(\"______________________________________________________________\")\n",
    "print(\"______________________________________________________________\")\n",
    "print(\"______________________________________________________________\")\n",
    "print(\"______________________________________________________________\")\n",
    "print(\"______________________________________________________________\")\n",
    "print(\"______________________________________________________________\")\n",
    "print(\"______________________________________________________________\\n\")\n",
    "print(\"____________Day 4 of numpy date 18 aug , 2025_________________\\n\")\n",
    "print(\"______________________________________________________________\")\n",
    "print(\"______________________________________________________________\")\n",
    "print(\"______________________________________________________________\")\n",
    "print(\"______________________________________________________________\")\n",
    "print(\"______________________________________________________________\")\n",
    "print(\"______________________________________________________________\")\n",
    "print(\"______________________________________________________________\")"
   ]
  },
  {
   "cell_type": "code",
   "execution_count": 22,
   "id": "44a9ce37",
   "metadata": {},
   "outputs": [
    {
     "name": "stdout",
     "output_type": "stream",
     "text": [
      "_____Plotting graphs using numpy_____\n"
     ]
    },
    {
     "data": {
      "text/plain": [
       "[<matplotlib.lines.Line2D at 0x24acd9c5db0>]"
      ]
     },
     "execution_count": 22,
     "metadata": {},
     "output_type": "execute_result"
    },
    {
     "data": {
      "image/png": "[encoded data removed]",
      "text/plain": [
       "<Figure size 640x480 with 1 Axes>"
      ]
     },
     "metadata": {},
     "output_type": "display_data"
    }
   ],
   "source": [
    "print(\"_____Plotting graphs using numpy_____\")\n",
    "\n",
    "import matplotlib.pyplot as plt\n",
    "%matplotlib inline\n",
    "\n",
    "x = np.linspace(-40,40,100)\n",
    "# x.size\n",
    "\n",
    "y = np.sin(x)\n",
    "\n",
    "plt.plot(x,y)"
   ]
  },
  {
   "cell_type": "code",
   "execution_count": 23,
   "id": "3fb0e01c",
   "metadata": {},
   "outputs": [
    {
     "data": {
      "text/plain": [
       "[<matplotlib.lines.Line2D at 0x24acfc20340>]"
      ]
     },
     "execution_count": 23,
     "metadata": {},
     "output_type": "execute_result"
    },
    {
     "data": {
      "image/png": "[encoded data removed]",
      "text/plain": [
       "<Figure size 640x480 with 1 Axes>"
      ]
     },
     "metadata": {},
     "output_type": "display_data"
    }
   ],
   "source": [
    "y = x*x+2*x+6\n",
    "plt.plot(x,y)"
   ]
  },
  {
   "cell_type": "code",
   "execution_count": 34,
   "id": "8b8c477b",
   "metadata": {},
   "outputs": [
    {
     "name": "stdout",
     "output_type": "stream",
     "text": [
      "_____Broadcasting_____\n",
      "a => \n",
      " [[0 1 2 3]]\n",
      "b => \n",
      " [[ 0  1  2  3]\n",
      " [ 4  5  6  7]\n",
      " [ 8  9 10 11]\n",
      " [12 13 14 15]] \n",
      "\n",
      "Addition of 2 arrays \n",
      " a+b \n",
      " [[ 0  2  4  6]\n",
      " [ 4  6  8 10]\n",
      " [ 8 10 12 14]\n",
      " [12 14 16 18]]\n"
     ]
    }
   ],
   "source": [
    "print(\"_____Broadcasting_____\")\n",
    "a = np.arange(4).reshape(1,4)\n",
    "b = np.arange(16).reshape(4,4)\n",
    "print(\"a => \\n\",a)\n",
    "print(\"b => \\n\",b,\"\\n\")\n",
    "print(\"Addition of 2 arrays \\n a+b \\n\",a+b)"
   ]
  }
 ],
 "metadata": {
  "kernelspec": {
   "display_name": "Python 3",
   "language": "python",
   "name": "python3"
  },
  "language_info": {
   "codemirror_mode": {
    "name": "ipython",
    "version": 3
   },
   "file_extension": ".py",
   "mimetype": "text/x-python",
   "name": "python",
   "nbconvert_exporter": "python",
   "pygments_lexer": "ipython3",
   "version": "3.10.11"
  }
 },
 "nbformat": 4,
 "nbformat_minor": 5
}
